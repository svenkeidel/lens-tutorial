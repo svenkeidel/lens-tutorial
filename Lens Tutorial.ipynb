{
 "cells": [
  {
   "cell_type": "markdown",
   "metadata": {},
   "source": [
    "# Lens Tutorial"
   ]
  },
  {
   "cell_type": "code",
   "execution_count": 13,
   "metadata": {
    "collapsed": false,
    "slideshow": {
     "slide_type": "slide"
    }
   },
   "outputs": [
    {
     "data": {
      "text/plain": [
       "(\"Frankfurt Haskell Usergroup\",\"scala meetup\")"
      ]
     },
     "metadata": {},
     "output_type": "display_data"
    }
   ],
   "source": [
    "{-# LANGUAGE GeneralizedNewtypeDeriving #-}\n",
    "{-# LANGUAGE RankNTypes #-}\n",
    "{-# LANGUAGE FlexibleContexts #-}\n",
    "\n",
    "import           Data.Functor.Identity\n",
    "import           Data.Functor.Constant\n",
    "import           Data.Monoid\n",
    "import qualified Data.Map as M\n",
    "import qualified Control.Lens as L\n",
    "import qualified Control.Lens.Type as L\n",
    "import           Control.Lens.Operators\n",
    "\n",
    "data Meetup = Meetup\n",
    "    { name :: String\n",
    "    , location :: Location\n",
    "    } deriving (Show)\n",
    "\n",
    "data Location = Location\n",
    "    { latitude :: Latitude\n",
    "    , longitude :: Longitude\n",
    "    } deriving (Show)\n",
    "\n",
    "newtype Latitude = Latitude { getLatitude :: Double } deriving (Show,Num)\n",
    "newtype Longitude = Longitude { getLongitude :: Double } deriving (Show,Num)\n",
    "\n",
    "hug :: Meetup\n",
    "hug = Meetup\n",
    " { name = \"Frankfurt Haskell Usergroup\"\n",
    " , location = Location\n",
    "     { latitude = Latitude 50.1262\n",
    "     , longitude = Longitude 8.707792\n",
    "     }\n",
    " }\n",
    " "
   ]
  },
  {
   "cell_type": "code",
   "execution_count": 14,
   "metadata": {
    "collapsed": false,
    "scrolled": true,
    "slideshow": {
     "slide_type": "slide"
    }
   },
   "outputs": [
    {
     "data": {
      "text/plain": [
       "Meetup {name = \"Frankfurt Haskell Usergroup\", location = Location {latitude = Latitude {getLatitude = 50.1262}, longitude = Longitude {getLongitude = 9.707792}}}"
      ]
     },
     "metadata": {},
     "output_type": "display_data"
    }
   ],
   "source": [
    "mapLongitudeOfMeetup :: (Longitude -> Longitude) -> (Meetup -> Meetup)\n",
    "mapLongitudeOfMeetup f meetup =\n",
    "    meetup { location =\n",
    "              (location meetup) { longitude = \n",
    "                  f (longitude (location meetup)) } }\n",
    "\n",
    "mapLongitudeOfMeetup (+1) hug"
   ]
  },
  {
   "cell_type": "code",
   "execution_count": 16,
   "metadata": {
    "collapsed": false,
    "slideshow": {
     "slide_type": "slide"
    }
   },
   "outputs": [
    {
     "data": {
      "text/html": [
       "<style>/*\n",
       "Custom IHaskell CSS.\n",
       "*/\n",
       "\n",
       "/* Styles used for the Hoogle display in the pager */\n",
       ".hoogle-doc {\n",
       "    display: block;\n",
       "    padding-bottom: 1.3em;\n",
       "    padding-left: 0.4em;\n",
       "}\n",
       ".hoogle-code {\n",
       "    display: block;\n",
       "    font-family: monospace;\n",
       "    white-space: pre;\n",
       "}\n",
       ".hoogle-text {\n",
       "    display: block;\n",
       "}\n",
       ".hoogle-name {\n",
       "    color: green;\n",
       "    font-weight: bold;\n",
       "}\n",
       ".hoogle-head {\n",
       "    font-weight: bold;\n",
       "}\n",
       ".hoogle-sub {\n",
       "    display: block;\n",
       "    margin-left: 0.4em;\n",
       "}\n",
       ".hoogle-package {\n",
       "    font-weight: bold;\n",
       "    font-style: italic;\n",
       "}\n",
       ".hoogle-module {\n",
       "    font-weight: bold;\n",
       "}\n",
       ".hoogle-class {\n",
       "    font-weight: bold;\n",
       "}\n",
       "\n",
       "/* Styles used for basic displays */\n",
       ".get-type {\n",
       "    color: green;\n",
       "    font-weight: bold;\n",
       "    font-family: monospace;\n",
       "    display: block;\n",
       "    white-space: pre-wrap;\n",
       "}\n",
       "\n",
       ".show-type {\n",
       "    color: green;\n",
       "    font-weight: bold;\n",
       "    font-family: monospace;\n",
       "    margin-left: 1em;\n",
       "}\n",
       "\n",
       ".mono {\n",
       "    font-family: monospace;\n",
       "    display: block;\n",
       "}\n",
       "\n",
       ".err-msg {\n",
       "    color: red;\n",
       "    font-style: italic;\n",
       "    font-family: monospace;\n",
       "    white-space: pre;\n",
       "    display: block;\n",
       "}\n",
       "\n",
       "#unshowable {\n",
       "    color: red;\n",
       "    font-weight: bold;\n",
       "}\n",
       "\n",
       ".err-msg.in.collapse {\n",
       "  padding-top: 0.7em;\n",
       "}\n",
       "\n",
       "/* Code that will get highlighted before it is highlighted */\n",
       ".highlight-code {\n",
       "    white-space: pre;\n",
       "    font-family: monospace;\n",
       "}\n",
       "\n",
       "/* Hlint styles */\n",
       ".suggestion-warning { \n",
       "    font-weight: bold;\n",
       "    color: rgb(200, 130, 0);\n",
       "}\n",
       ".suggestion-error { \n",
       "    font-weight: bold;\n",
       "    color: red;\n",
       "}\n",
       ".suggestion-name {\n",
       "    font-weight: bold;\n",
       "}\n",
       "</style><span class='get-type'>compose :: (Longitude -> Longitude) -> Meetup -> Meetup</span>"
      ],
      "text/plain": [
       "compose :: (Longitude -> Longitude) -> Meetup -> Meetup"
      ]
     },
     "metadata": {},
     "output_type": "display_data"
    },
    {
     "data": {
      "text/plain": [
       "Meetup {name = \"Frankfurt Haskell Usergroup\", location = Location {latitude = Latitude {getLatitude = 50.1262}, longitude = Longitude {getLongitude = 9.707792}}}"
      ]
     },
     "metadata": {},
     "output_type": "display_data"
    }
   ],
   "source": [
    "mapLocation :: (Location -> Location) -> (Meetup -> Meetup)\n",
    "mapLocation f meetup =\n",
    "    meetup { location = f (location meetup) }\n",
    "\n",
    "mapLongitude :: (Longitude -> Longitude) -> (Location -> Location)\n",
    "mapLongitude f loc = loc { longitude = f (longitude loc) }\n",
    "\n",
    "compose f meetup = mapLocation (mapLongitude f) meetup\n",
    ":t compose\n",
    "\n",
    "compose (+1) hug"
   ]
  },
  {
   "cell_type": "code",
   "execution_count": 17,
   "metadata": {
    "collapsed": false
   },
   "outputs": [
    {
     "data": {
      "text/plain": [
       "Meetup {name = \"Frankfurt Haskell Usergroup\", location = Location {latitude = Latitude {getLatitude = 50.1262}, longitude = Longitude {getLongitude = 9.707792}}}"
      ]
     },
     "metadata": {},
     "output_type": "display_data"
    },
    {
     "data": {
      "text/html": [
       "<style>/*\n",
       "Custom IHaskell CSS.\n",
       "*/\n",
       "\n",
       "/* Styles used for the Hoogle display in the pager */\n",
       ".hoogle-doc {\n",
       "    display: block;\n",
       "    padding-bottom: 1.3em;\n",
       "    padding-left: 0.4em;\n",
       "}\n",
       ".hoogle-code {\n",
       "    display: block;\n",
       "    font-family: monospace;\n",
       "    white-space: pre;\n",
       "}\n",
       ".hoogle-text {\n",
       "    display: block;\n",
       "}\n",
       ".hoogle-name {\n",
       "    color: green;\n",
       "    font-weight: bold;\n",
       "}\n",
       ".hoogle-head {\n",
       "    font-weight: bold;\n",
       "}\n",
       ".hoogle-sub {\n",
       "    display: block;\n",
       "    margin-left: 0.4em;\n",
       "}\n",
       ".hoogle-package {\n",
       "    font-weight: bold;\n",
       "    font-style: italic;\n",
       "}\n",
       ".hoogle-module {\n",
       "    font-weight: bold;\n",
       "}\n",
       ".hoogle-class {\n",
       "    font-weight: bold;\n",
       "}\n",
       "\n",
       "/* Styles used for basic displays */\n",
       ".get-type {\n",
       "    color: green;\n",
       "    font-weight: bold;\n",
       "    font-family: monospace;\n",
       "    display: block;\n",
       "    white-space: pre-wrap;\n",
       "}\n",
       "\n",
       ".show-type {\n",
       "    color: green;\n",
       "    font-weight: bold;\n",
       "    font-family: monospace;\n",
       "    margin-left: 1em;\n",
       "}\n",
       "\n",
       ".mono {\n",
       "    font-family: monospace;\n",
       "    display: block;\n",
       "}\n",
       "\n",
       ".err-msg {\n",
       "    color: red;\n",
       "    font-style: italic;\n",
       "    font-family: monospace;\n",
       "    white-space: pre;\n",
       "    display: block;\n",
       "}\n",
       "\n",
       "#unshowable {\n",
       "    color: red;\n",
       "    font-weight: bold;\n",
       "}\n",
       "\n",
       ".err-msg.in.collapse {\n",
       "  padding-top: 0.7em;\n",
       "}\n",
       "\n",
       "/* Code that will get highlighted before it is highlighted */\n",
       ".highlight-code {\n",
       "    white-space: pre;\n",
       "    font-family: monospace;\n",
       "}\n",
       "\n",
       "/* Hlint styles */\n",
       ".suggestion-warning { \n",
       "    font-weight: bold;\n",
       "    color: rgb(200, 130, 0);\n",
       "}\n",
       ".suggestion-error { \n",
       "    font-weight: bold;\n",
       "    color: red;\n",
       "}\n",
       ".suggestion-name {\n",
       "    font-weight: bold;\n",
       "}\n",
       "</style><span class='get-type'>fmap :: forall (f :: * -> *) a b. Functor f => (a -> b) -> f a -> f b</span>"
      ],
      "text/plain": [
       "fmap :: forall (f :: * -> *) a b. Functor f => (a -> b) -> f a -> f b"
      ]
     },
     "metadata": {},
     "output_type": "display_data"
    }
   ],
   "source": [
    "(mapLocation . mapLongitude) (+1) hug\n",
    "\n",
    "-- (.) :: (b -> c) -> (a -> b) -> (a -> c)\n",
    "--\n",
    "-- Specialized for (mapLocation . mapLongitude)\n",
    "-- (.) :: ((Location -> Location) -> (Meetup -> Meetup))\n",
    "--     -> ((Longitude -> Longitude) -> (Location -> Location))\n",
    "--     -> ((Longitude -> Longitude) -> (Meetup -> Meetup))\n",
    ":t fmap"
   ]
  },
  {
   "cell_type": "code",
   "execution_count": 22,
   "metadata": {
    "collapsed": false,
    "slideshow": {
     "slide_type": "slide"
    }
   },
   "outputs": [
    {
     "data": {
      "text/html": [
       "<style>/*\n",
       "Custom IHaskell CSS.\n",
       "*/\n",
       "\n",
       "/* Styles used for the Hoogle display in the pager */\n",
       ".hoogle-doc {\n",
       "    display: block;\n",
       "    padding-bottom: 1.3em;\n",
       "    padding-left: 0.4em;\n",
       "}\n",
       ".hoogle-code {\n",
       "    display: block;\n",
       "    font-family: monospace;\n",
       "    white-space: pre;\n",
       "}\n",
       ".hoogle-text {\n",
       "    display: block;\n",
       "}\n",
       ".hoogle-name {\n",
       "    color: green;\n",
       "    font-weight: bold;\n",
       "}\n",
       ".hoogle-head {\n",
       "    font-weight: bold;\n",
       "}\n",
       ".hoogle-sub {\n",
       "    display: block;\n",
       "    margin-left: 0.4em;\n",
       "}\n",
       ".hoogle-package {\n",
       "    font-weight: bold;\n",
       "    font-style: italic;\n",
       "}\n",
       ".hoogle-module {\n",
       "    font-weight: bold;\n",
       "}\n",
       ".hoogle-class {\n",
       "    font-weight: bold;\n",
       "}\n",
       "\n",
       "/* Styles used for basic displays */\n",
       ".get-type {\n",
       "    color: green;\n",
       "    font-weight: bold;\n",
       "    font-family: monospace;\n",
       "    display: block;\n",
       "    white-space: pre-wrap;\n",
       "}\n",
       "\n",
       ".show-type {\n",
       "    color: green;\n",
       "    font-weight: bold;\n",
       "    font-family: monospace;\n",
       "    margin-left: 1em;\n",
       "}\n",
       "\n",
       ".mono {\n",
       "    font-family: monospace;\n",
       "    display: block;\n",
       "}\n",
       "\n",
       ".err-msg {\n",
       "    color: red;\n",
       "    font-style: italic;\n",
       "    font-family: monospace;\n",
       "    white-space: pre;\n",
       "    display: block;\n",
       "}\n",
       "\n",
       "#unshowable {\n",
       "    color: red;\n",
       "    font-weight: bold;\n",
       "}\n",
       "\n",
       ".err-msg.in.collapse {\n",
       "  padding-top: 0.7em;\n",
       "}\n",
       "\n",
       "/* Code that will get highlighted before it is highlighted */\n",
       ".highlight-code {\n",
       "    white-space: pre;\n",
       "    font-family: monospace;\n",
       "}\n",
       "\n",
       "/* Hlint styles */\n",
       ".suggestion-warning { \n",
       "    font-weight: bold;\n",
       "    color: rgb(200, 130, 0);\n",
       "}\n",
       ".suggestion-error { \n",
       "    font-weight: bold;\n",
       "    color: red;\n",
       "}\n",
       ".suggestion-name {\n",
       "    font-weight: bold;\n",
       "}\n",
       "</style><span class='get-type'>(mapLocation' . mapLongitude') :: forall (f :: * -> *). Functor f => (Longitude -> f Longitude) -> Meetup -> f Meetup</span>"
      ],
      "text/plain": [
       "(mapLocation' . mapLongitude') :: forall (f :: * -> *). Functor f => (Longitude -> f Longitude) -> Meetup -> f Meetup"
      ]
     },
     "metadata": {},
     "output_type": "display_data"
    },
    {
     "data": {
      "text/plain": [
       "Longitude {getLongitude = 8.707792}\n",
       "Meetup {name = \"Frankfurt Haskell Usergroup\", location = Location {latitude = Latitude {getLatitude = 50.1262}, longitude = Longitude {getLongitude = 9.707792}}}"
      ]
     },
     "metadata": {},
     "output_type": "display_data"
    },
    {
     "data": {
      "text/html": [
       "<style>/*\n",
       "Custom IHaskell CSS.\n",
       "*/\n",
       "\n",
       "/* Styles used for the Hoogle display in the pager */\n",
       ".hoogle-doc {\n",
       "    display: block;\n",
       "    padding-bottom: 1.3em;\n",
       "    padding-left: 0.4em;\n",
       "}\n",
       ".hoogle-code {\n",
       "    display: block;\n",
       "    font-family: monospace;\n",
       "    white-space: pre;\n",
       "}\n",
       ".hoogle-text {\n",
       "    display: block;\n",
       "}\n",
       ".hoogle-name {\n",
       "    color: green;\n",
       "    font-weight: bold;\n",
       "}\n",
       ".hoogle-head {\n",
       "    font-weight: bold;\n",
       "}\n",
       ".hoogle-sub {\n",
       "    display: block;\n",
       "    margin-left: 0.4em;\n",
       "}\n",
       ".hoogle-package {\n",
       "    font-weight: bold;\n",
       "    font-style: italic;\n",
       "}\n",
       ".hoogle-module {\n",
       "    font-weight: bold;\n",
       "}\n",
       ".hoogle-class {\n",
       "    font-weight: bold;\n",
       "}\n",
       "\n",
       "/* Styles used for basic displays */\n",
       ".get-type {\n",
       "    color: green;\n",
       "    font-weight: bold;\n",
       "    font-family: monospace;\n",
       "    display: block;\n",
       "    white-space: pre-wrap;\n",
       "}\n",
       "\n",
       ".show-type {\n",
       "    color: green;\n",
       "    font-weight: bold;\n",
       "    font-family: monospace;\n",
       "    margin-left: 1em;\n",
       "}\n",
       "\n",
       ".mono {\n",
       "    font-family: monospace;\n",
       "    display: block;\n",
       "}\n",
       "\n",
       ".err-msg {\n",
       "    color: red;\n",
       "    font-style: italic;\n",
       "    font-family: monospace;\n",
       "    white-space: pre;\n",
       "    display: block;\n",
       "}\n",
       "\n",
       "#unshowable {\n",
       "    color: red;\n",
       "    font-weight: bold;\n",
       "}\n",
       "\n",
       ".err-msg.in.collapse {\n",
       "  padding-top: 0.7em;\n",
       "}\n",
       "\n",
       "/* Code that will get highlighted before it is highlighted */\n",
       ".highlight-code {\n",
       "    white-space: pre;\n",
       "    font-family: monospace;\n",
       "}\n",
       "\n",
       "/* Hlint styles */\n",
       ".suggestion-warning { \n",
       "    font-weight: bold;\n",
       "    color: rgb(200, 130, 0);\n",
       "}\n",
       ".suggestion-error { \n",
       "    font-weight: bold;\n",
       "    color: red;\n",
       "}\n",
       ".suggestion-name {\n",
       "    font-weight: bold;\n",
       "}\n",
       "</style><span class='get-type'>Identity :: * -> *</span>"
      ],
      "text/plain": [
       "Identity :: * -> *"
      ]
     },
     "metadata": {},
     "output_type": "display_data"
    },
    {
     "data": {
      "text/html": [
       "<style>/*\n",
       "Custom IHaskell CSS.\n",
       "*/\n",
       "\n",
       "/* Styles used for the Hoogle display in the pager */\n",
       ".hoogle-doc {\n",
       "    display: block;\n",
       "    padding-bottom: 1.3em;\n",
       "    padding-left: 0.4em;\n",
       "}\n",
       ".hoogle-code {\n",
       "    display: block;\n",
       "    font-family: monospace;\n",
       "    white-space: pre;\n",
       "}\n",
       ".hoogle-text {\n",
       "    display: block;\n",
       "}\n",
       ".hoogle-name {\n",
       "    color: green;\n",
       "    font-weight: bold;\n",
       "}\n",
       ".hoogle-head {\n",
       "    font-weight: bold;\n",
       "}\n",
       ".hoogle-sub {\n",
       "    display: block;\n",
       "    margin-left: 0.4em;\n",
       "}\n",
       ".hoogle-package {\n",
       "    font-weight: bold;\n",
       "    font-style: italic;\n",
       "}\n",
       ".hoogle-module {\n",
       "    font-weight: bold;\n",
       "}\n",
       ".hoogle-class {\n",
       "    font-weight: bold;\n",
       "}\n",
       "\n",
       "/* Styles used for basic displays */\n",
       ".get-type {\n",
       "    color: green;\n",
       "    font-weight: bold;\n",
       "    font-family: monospace;\n",
       "    display: block;\n",
       "    white-space: pre-wrap;\n",
       "}\n",
       "\n",
       ".show-type {\n",
       "    color: green;\n",
       "    font-weight: bold;\n",
       "    font-family: monospace;\n",
       "    margin-left: 1em;\n",
       "}\n",
       "\n",
       ".mono {\n",
       "    font-family: monospace;\n",
       "    display: block;\n",
       "}\n",
       "\n",
       ".err-msg {\n",
       "    color: red;\n",
       "    font-style: italic;\n",
       "    font-family: monospace;\n",
       "    white-space: pre;\n",
       "    display: block;\n",
       "}\n",
       "\n",
       "#unshowable {\n",
       "    color: red;\n",
       "    font-weight: bold;\n",
       "}\n",
       "\n",
       ".err-msg.in.collapse {\n",
       "  padding-top: 0.7em;\n",
       "}\n",
       "\n",
       "/* Code that will get highlighted before it is highlighted */\n",
       ".highlight-code {\n",
       "    white-space: pre;\n",
       "    font-family: monospace;\n",
       "}\n",
       "\n",
       "/* Hlint styles */\n",
       ".suggestion-warning { \n",
       "    font-weight: bold;\n",
       "    color: rgb(200, 130, 0);\n",
       "}\n",
       ".suggestion-error { \n",
       "    font-weight: bold;\n",
       "    color: red;\n",
       "}\n",
       ".suggestion-name {\n",
       "    font-weight: bold;\n",
       "}\n",
       "</style><span class='get-type'>Constant :: * -> * -> *</span>"
      ],
      "text/plain": [
       "Constant :: * -> * -> *"
      ]
     },
     "metadata": {},
     "output_type": "display_data"
    }
   ],
   "source": [
    "mapLocation' :: Functor f => (Location -> f Location) -> (Meetup -> f Meetup)\n",
    "mapLocation' g meetup = fmap (\\loc -> meetup { location = loc }) (g (location meetup))\n",
    "\n",
    "mapLongitude' :: Functor f => (Longitude -> f Longitude) -> (Location -> f Location)\n",
    "mapLongitude' f loc = fmap (\\long -> loc { longitude = long }) (f (longitude loc))\n",
    "\n",
    ":t (mapLocation' . mapLongitude')\n",
    "\n",
    "(mapLocation' . mapLongitude') (\\l -> print l >> return (l+1)) hug"
   ]
  },
  {
   "cell_type": "markdown",
   "metadata": {},
   "source": [
    "## The Lens Type and Setters"
   ]
  },
  {
   "cell_type": "code",
   "execution_count": 20,
   "metadata": {
    "collapsed": false
   },
   "outputs": [
    {
     "data": {
      "text/plain": [
       "Meetup {name = \"Frankfurt Haskell Usergroup\", location = Location {latitude = Latitude {getLatitude = 50.1262}, longitude = Longitude {getLongitude = 42.0}}}"
      ]
     },
     "metadata": {},
     "output_type": "display_data"
    },
    {
     "data": {
      "text/plain": [
       "Just (Meetup {name = \"Frankfurt Haskell Usergroup\", location = Location {latitude = Latitude {getLatitude = 50.1262}, longitude = Longitude {getLongitude = 42.0}}})"
      ]
     },
     "metadata": {},
     "output_type": "display_data"
    },
    {
     "data": {
      "text/plain": [
       "Meetup {name = \"Frankfurt Haskell Usergroup\", location = Location {latitude = Latitude {getLatitude = 50.1262}, longitude = Longitude {getLongitude = 9.707792}}}"
      ]
     },
     "metadata": {},
     "output_type": "display_data"
    },
    {
     "data": {
      "text/plain": [
       "Meetup {name = \"Frankfurt Haskell Usergroup\", location = Location {latitude = Latitude {getLatitude = 50.1262}, longitude = Longitude {getLongitude = 7.7077919999999995}}}"
      ]
     },
     "metadata": {},
     "output_type": "display_data"
    },
    {
     "data": {
      "text/plain": [
       "Meetup {name = \"Frankfurt Haskell Usergroup\", location = Location {latitude = Latitude {getLatitude = 50.1262}, longitude = Longitude {getLongitude = 17.415584}}}"
      ]
     },
     "metadata": {},
     "output_type": "display_data"
    }
   ],
   "source": [
    "type Lens s t a b = forall f. Functor f => (a -> f b) -> (s -> f t)\n",
    "type Lens' s a = Lens s s a a\n",
    "\n",
    "type Setter s t a b = (a -> Identity b) -> s -> Identity t\n",
    "\n",
    "-- set :: Setter' Meetup Location -> Location -> Meetup -> Meetup\n",
    "set :: Setter s t a b -> b -> s -> t\n",
    "set setter b s = runIdentity $ setter (\\_ -> Identity b) s \n",
    "\n",
    "set (mapLocation' . mapLongitude') 42 hug\n",
    "\n",
    "set (L.mapped . mapLocation' . mapLongitude') 42 (Just hug)\n",
    "\n",
    "hug & (mapLocation' . mapLongitude') +~ 1\n",
    "hug & (mapLocation' . mapLongitude') -~ 1\n",
    "hug & (mapLocation' . mapLongitude') *~ 2"
   ]
  },
  {
   "cell_type": "markdown",
   "metadata": {},
   "source": [
    "## Getter\n",
    "\n",
    "Each lens is a getter"
   ]
  },
  {
   "cell_type": "code",
   "execution_count": 24,
   "metadata": {
    "collapsed": false,
    "scrolled": true
   },
   "outputs": [
    {
     "data": {
      "text/plain": [
       "Longitude {getLongitude = 8.707792}"
      ]
     },
     "metadata": {},
     "output_type": "display_data"
    },
    {
     "data": {
      "text/plain": [
       "8.707792"
      ]
     },
     "metadata": {},
     "output_type": "display_data"
    },
    {
     "data": {
      "text/plain": [
       "Just 'b'"
      ]
     },
     "metadata": {},
     "output_type": "display_data"
    },
    {
     "data": {
      "text/plain": [
       "fromList [(1,'a'),(2,'c'),(3,'c')]"
      ]
     },
     "metadata": {},
     "output_type": "display_data"
    },
    {
     "data": {
      "text/plain": [
       "fromList [(1,'a'),(2,'c'),(3,'c')]"
      ]
     },
     "metadata": {},
     "output_type": "display_data"
    }
   ],
   "source": [
    "type Getting r s a = (a -> Constant r a) -> (s -> Constant r s)\n",
    "\n",
    "get :: Getting a s a -> s -> a\n",
    "get getter s = getConstant $ getter (\\a -> Constant a) s\n",
    "\n",
    "\n",
    "get (mapLocation' . mapLongitude') hug\n",
    "get (mapLocation' . mapLongitude' . L.to getLongitude) hug\n",
    "\n",
    "get (L.at 2) (M.fromList [(1,'a'), (2,'b'), (3,'c')])\n",
    "set (L.at 2) (Just 'c') (M.fromList [(1,'a'), (2,'b'), (3,'c')])\n",
    "L.at 2 ?~ 'c' $ M.fromList [(1,'a'), (2,'b'), (3,'c')]"
   ]
  },
  {
   "cell_type": "markdown",
   "metadata": {},
   "source": [
    "## Traversal\n",
    "\n",
    "Traversal is weaker than a lens,\n",
    "i.e. each lens is a traversal but not every traversal is a lens."
   ]
  },
  {
   "cell_type": "code",
   "execution_count": 29,
   "metadata": {
    "collapsed": false,
    "slideshow": {
     "slide_type": "slide"
    }
   },
   "outputs": [
    {
     "data": {
      "text/plain": [
       "Meetup {name = \"Frankfurt Haskell Usergroup\", location = Location {latitude = Latitude {getLatitude = 4.0}, longitude = Longitude {getLongitude = 4.0}}}"
      ]
     },
     "metadata": {},
     "output_type": "display_data"
    }
   ],
   "source": [
    "mapLongLat :: Applicative f => (Double -> f Double) -> (Location -> f Location)\n",
    "mapLongLat f loc = Location <$> fmap Latitude (f (getLatitude (latitude loc)))\n",
    "                            <*> fmap Longitude (f (getLongitude (longitude loc)))\n",
    "\n",
    "set (mapLocation' . mapLongLat) 4 hug\n",
    "get (mapLocation' . mapLongLat) hug"
   ]
  },
  {
   "cell_type": "markdown",
   "metadata": {},
   "source": [
    "## Fold"
   ]
  },
  {
   "cell_type": "code",
   "execution_count": null,
   "metadata": {
    "collapsed": false,
    "slideshow": {
     "slide_type": "slide"
    }
   },
   "outputs": [],
   "source": [
    "foldMapOf :: Getting r s a -> (a -> r) -> s -> r\n",
    "foldMapOf lens f s = getConstant $ lens (Constant . f) s\n",
    "\n",
    "foldrOf :: Getting (Endo r) s a -> (a -> r -> r) -> r -> s -> r\n",
    "foldrOf l f z = flip appEndo z . foldMapOf l (Endo . f)\n",
    "\n",
    "toListOf :: Getting (Endo [a]) s a -> s -> [a]\n",
    "toListOf l = foldrOf l (:) []\n",
    "\n",
    "toListOf (mapLocation' . mapLongLat) hug\n",
    "\n",
    "anyOf :: Getting Any s a -> (a -> Bool) -> s -> Bool\n",
    "anyOf l f = getAny . foldMapOf l (Any . f)\n",
    "\n",
    "allOf :: Getting All s a -> (a -> Bool) -> s -> Bool\n",
    "allOf l f = getAll . foldMapOf l (All . f)\n",
    "\n",
    "anyOf (mapLocation' . mapLongLat) (<= 8) hug\n",
    "anyOf (mapLocation' . mapLongLat) (<= 9) hug\n",
    "allOf (mapLocation' . mapLongLat) (>= 8) hug"
   ]
  }
 ],
 "metadata": {
  "kernelspec": {
   "display_name": "Haskell",
   "language": "haskell",
   "name": "haskell"
  },
  "language_info": {
   "codemirror_mode": "ihaskell",
   "file_extension": ".hs",
   "name": "haskell",
   "version": "7.10.2"
  }
 },
 "nbformat": 4,
 "nbformat_minor": 0
}
